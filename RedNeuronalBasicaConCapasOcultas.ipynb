{
  "nbformat": 4,
  "nbformat_minor": 0,
  "metadata": {
    "colab": {
      "provenance": []
    },
    "kernelspec": {
      "name": "python3",
      "display_name": "Python 3"
    },
    "language_info": {
      "name": "python"
    }
  },
  "cells": [
    {
      "cell_type": "markdown",
      "source": [
        "# **Convertiremos Kilometrosa a Millas**"
      ],
      "metadata": {
        "id": "QmVQhUhrg3BU"
      }
    },
    {
      "cell_type": "code",
      "execution_count": null,
      "metadata": {
        "id": "c1Ezml-aWiGB"
      },
      "outputs": [],
      "source": []
    },
    {
      "cell_type": "code",
      "execution_count": 1,
      "metadata": {
        "id": "5-4KcswOKhBX"
      },
      "outputs": [],
      "source": [
        "import tensorflow as tf\n",
        "import numpy as np"
      ]
    },
    {
      "cell_type": "markdown",
      "source": [
        "Entradas en grados Celsius"
      ],
      "metadata": {
        "id": "Tz-9qdZtK5WA"
      }
    },
    {
      "cell_type": "code",
      "source": [
        "km = np.array([40,10,1,8,15,22,38], dtype = float)\n",
        "millas = np.array([64.37,16.09,1.60,12.87,24.14,35.40,61.15,], dtype = float)"
      ],
      "metadata": {
        "id": "zBFomUu5K4Fw"
      },
      "execution_count": 2,
      "outputs": []
    },
    {
      "cell_type": "markdown",
      "source": [
        "\n",
        "**Modelo**<br>\n",
        "Creamos las capas de nuestra red neuronal\n",
        "\n"
      ],
      "metadata": {
        "id": "MwuPp3wMLmqo"
      }
    },
    {
      "cell_type": "code",
      "source": [
        "#capa = tf.keras.layers.Dense(units=1, input_shape =[1])\n",
        "#modelo = tf.keras.Sequential([capa])"
      ],
      "metadata": {
        "id": "M4VSwVDJLmZA"
      },
      "execution_count": null,
      "outputs": []
    },
    {
      "cell_type": "markdown",
      "source": [
        "## Que pasaria si le agregamos dos capas intermedias a la red para probar su desempeño?"
      ],
      "metadata": {
        "id": "ck3gNYz5VBfl"
      }
    },
    {
      "cell_type": "code",
      "source": [
        "oculta1=tf.keras.layers.Dense(units=3, input_shape = [1])\n",
        "oculta2 = tf.keras.layers.Dense(units= 3)\n",
        "salida =  tf.keras.layers.Dense(units= 1)\n",
        "modelo = tf.keras.Sequential([oculta1,oculta2,salida])"
      ],
      "metadata": {
        "colab": {
          "base_uri": "https://localhost:8080/"
        },
        "id": "KP9jJpWnVMm9",
        "outputId": "e3264805-0f52-4a63-83d5-9a637f10cc63"
      },
      "execution_count": 3,
      "outputs": [
        {
          "output_type": "stream",
          "name": "stderr",
          "text": [
            "/usr/local/lib/python3.11/dist-packages/keras/src/layers/core/dense.py:87: UserWarning: Do not pass an `input_shape`/`input_dim` argument to a layer. When using Sequential models, prefer using an `Input(shape)` object as the first layer in the model instead.\n",
            "  super().__init__(activity_regularizer=activity_regularizer, **kwargs)\n"
          ]
        }
      ]
    },
    {
      "cell_type": "markdown",
      "source": [
        "Compilamos el modelo"
      ],
      "metadata": {
        "id": "YG-9b-kJMc8V"
      }
    },
    {
      "cell_type": "code",
      "source": [
        "modelo.compile(\n",
        "    optimizer= tf.keras.optimizers.Adam(0.1), #El Optimizador le permitira ajustar los sesgos o pesos de la entrada para mejorar sus predicciones\n",
        "    loss = 'mean_squared_error'               #Parametro de perdida\n",
        ")\n",
        "#El optimizer le permite ajustar los sesgos para aprender y mejorar el aprendizaje,entre parentisis va la TASA DE APRENDIZAJE(0.1)"
      ],
      "metadata": {
        "id": "De-MVmaQMTCw"
      },
      "execution_count": 4,
      "outputs": []
    },
    {
      "cell_type": "markdown",
      "source": [
        "Comenzamos el entrenamiento"
      ],
      "metadata": {
        "id": "rNaSHFV7OB6C"
      }
    },
    {
      "cell_type": "code",
      "source": [
        "print(\"Comenzando el entrenamiento\")\n",
        "historial = modelo.fit(km, millas, epochs= 500,verbose = False)\n",
        "print(\"Entrenamiento Concluido!!!\")"
      ],
      "metadata": {
        "colab": {
          "base_uri": "https://localhost:8080/"
        },
        "id": "NLaK3efoOEja",
        "outputId": "bc5499e0-9e08-4aed-9c9f-9d0374e8c8f1"
      },
      "execution_count": 5,
      "outputs": [
        {
          "output_type": "stream",
          "name": "stdout",
          "text": [
            "Comenzando el entrenamiento\n",
            "Entrenamiento Concluido!!!\n"
          ]
        }
      ]
    },
    {
      "cell_type": "markdown",
      "source": [
        "Graficamos el porcentaje de perdida"
      ],
      "metadata": {
        "id": "m0fbe3ULPAZC"
      }
    },
    {
      "cell_type": "code",
      "source": [
        "import matplotlib.pyplot as plt\n",
        "plt.xlabel(\"Epoca\")\n",
        "plt.ylabel(\"Magnitud de Perdida\")\n",
        "plt.plot(historial.history[\"loss\"])"
      ],
      "metadata": {
        "colab": {
          "base_uri": "https://localhost:8080/",
          "height": 466
        },
        "id": "xwBcczekPEDh",
        "outputId": "be5c6356-871a-4ee8-c816-d06025a69876"
      },
      "execution_count": 6,
      "outputs": [
        {
          "output_type": "execute_result",
          "data": {
            "text/plain": [
              "[<matplotlib.lines.Line2D at 0x7a13afebd310>]"
            ]
          },
          "metadata": {},
          "execution_count": 6
        },
        {
          "output_type": "display_data",
          "data": {
            "text/plain": [
              "<Figure size 640x480 with 1 Axes>"
            ],
            "image/png": "[encoded data removed]"
          },
          "metadata": {}
        }
      ]
    },
    {
      "cell_type": "markdown",
      "source": [
        "##Podemos ver que el modelo con las capas ocultas aprende mucho mas rapido"
      ],
      "metadata": {
        "id": "bAzsrcC9WMtG"
      }
    },
    {
      "cell_type": "code",
      "source": [],
      "metadata": {
        "id": "pxga7CpOP7Za"
      },
      "execution_count": null,
      "outputs": []
    },
    {
      "cell_type": "markdown",
      "source": [
        "## Hacemos una prediccion y probamos el **modelo**"
      ],
      "metadata": {
        "id": "JpFUT6j_P-AK"
      }
    },
    {
      "cell_type": "code",
      "source": [
        "# Convertir la entrada en un arreglo de NumPy\n",
        "entrada = np.array([[80.0]])  # Asegúrate de que sea 2D para modelos que esperan batches\n",
        "resultado = modelo.predict(entrada)\n",
        "print(\"El resultado es: \" + str(resultado) + \" Millas\")"
      ],
      "metadata": {
        "colab": {
          "base_uri": "https://localhost:8080/"
        },
        "id": "BGeeQ0bMRrrU",
        "outputId": "7fe0b20c-525b-41c7-a543-f25fecec6499"
      },
      "execution_count": 7,
      "outputs": [
        {
          "output_type": "stream",
          "name": "stdout",
          "text": [
            "\u001b[1m1/1\u001b[0m \u001b[32m━━━━━━━━━━━━━━━━━━━━\u001b[0m\u001b[37m\u001b[0m \u001b[1m0s\u001b[0m 83ms/step\n",
            "El resultado es: [[128.74586]] Millas\n"
          ]
        }
      ]
    },
    {
      "cell_type": "markdown",
      "source": [
        "## Arroja : <br> **El resultado es: [[128.74585]] **"
      ],
      "metadata": {
        "id": "8zlIC9l1SG8D"
      }
    },
    {
      "cell_type": "markdown",
      "source": [
        "![captura km a millas.png](data:image/png;base64,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)"
      ],
      "metadata": {
        "id": "_P7J9dhGju8N"
      }
    },
    {
      "cell_type": "markdown",
      "source": [
        "### Vemos que el modelo a pesar de ser bastante simple, es bastante preciso. Pero ahora veamos los valores internos del modelo para analizar mas detenidamente"
      ],
      "metadata": {
        "id": "sUeAUhheShSs"
      }
    },
    {
      "cell_type": "code",
      "source": [
        "print(\"Variables internas del modelo: \")\n",
        "print(oculta1.get_weights())\n",
        "print(oculta2.get_weights())\n",
        "print(salida.get_weights())"
      ],
      "metadata": {
        "colab": {
          "base_uri": "https://localhost:8080/"
        },
        "id": "Sv3q5ykRSyA8",
        "outputId": "29f967a0-b65f-476b-86ef-7fcdca7d1420"
      },
      "execution_count": null,
      "outputs": [
        {
          "output_type": "stream",
          "name": "stdout",
          "text": [
            "Variables internas del modelo: \n",
            "[array([[-0.7548266, -0.5940099,  0.1252628]], dtype=float32), array([0.13776755, 0.16222759, 0.32957393], dtype=float32)]\n",
            "[array([[-0.24997094,  1.0258025 , -0.1041604 ],\n",
            "       [-0.34992102,  0.88544357,  0.23622923],\n",
            "       [ 0.09347476, -0.00340747, -0.15884365]], dtype=float32), array([-0.8959989 , -0.19552332,  0.6655517 ], dtype=float32)]\n",
            "[array([[ 0.1919592 ],\n",
            "       [-1.170599  ],\n",
            "       [-0.10338248]], dtype=float32), array([0.34734654], dtype=float32)]\n"
          ]
        }
      ]
    },
    {
      "cell_type": "markdown",
      "source": [
        "## Aqui los valores son más variados y más complejos pero los resultados son mejores en términos generales"
      ],
      "metadata": {
        "id": "TnKXEoe0X5YO"
      }
    },
    {
      "cell_type": "markdown",
      "source": [
        "# Se guarda el modelo para luego converirlo y exportarlo"
      ],
      "metadata": {
        "id": "wygZHNJTG7nC"
      }
    },
    {
      "cell_type": "code",
      "source": [
        "modelo.save('km_a_millas.h5')"
      ],
      "metadata": {
        "colab": {
          "base_uri": "https://localhost:8080/"
        },
        "id": "ZvW-r3_FHDSi",
        "outputId": "300df74a-f348-4104-fda8-4ea6b71c3af9"
      },
      "execution_count": 9,
      "outputs": [
        {
          "output_type": "stream",
          "name": "stderr",
          "text": [
            "WARNING:absl:You are saving your model as an HDF5 file via `model.save()` or `keras.saving.save_model(model)`. This file format is considered legacy. We recommend using instead the native Keras format, e.g. `model.save('my_model.keras')` or `keras.saving.save_model(model, 'my_model.keras')`. \n"
          ]
        }
      ]
    },
    {
      "cell_type": "code",
      "source": [
        "#Reviso que se halla guardado\n",
        "!ls"
      ],
      "metadata": {
        "colab": {
          "base_uri": "https://localhost:8080/"
        },
        "id": "3zFyrskDHTUq",
        "outputId": "e74c2540-5182-4e0c-c5a9-664f98443360"
      },
      "execution_count": 10,
      "outputs": [
        {
          "output_type": "stream",
          "name": "stdout",
          "text": [
            "km_a_millas.h5\tsample_data\n"
          ]
        }
      ]
    },
    {
      "cell_type": "code",
      "source": [
        "#Ahora instalo tensorflowjs para convertir el modelo para poder exportarlo a la pagina web\n",
        "!pip install tensorflowjs"
      ],
      "metadata": {
        "colab": {
          "base_uri": "https://localhost:8080/",
          "height": 1000
        },
        "id": "4WtwzNdQHgLB",
        "outputId": "527080a1-6a1a-4284-e216-275318b25b77"
      },
      "execution_count": 11,
      "outputs": [
        {
          "output_type": "stream",
          "name": "stdout",
          "text": [
            "Collecting tensorflowjs\n",
            "  Downloading tensorflowjs-4.22.0-py3-none-any.whl.metadata (3.2 kB)\n",
            "Requirement already satisfied: flax>=0.7.2 in /usr/local/lib/python3.11/dist-packages (from tensorflowjs) (0.10.2)\n",
            "Requirement already satisfied: importlib_resources>=5.9.0 in /usr/local/lib/python3.11/dist-packages (from tensorflowjs) (6.5.2)\n",
            "Requirement already satisfied: jax>=0.4.13 in /usr/local/lib/python3.11/dist-packages (from tensorflowjs) (0.4.33)\n",
            "Requirement already satisfied: jaxlib>=0.4.13 in /usr/local/lib/python3.11/dist-packages (from tensorflowjs) (0.4.33)\n",
            "Requirement already satisfied: tensorflow<3,>=2.13.0 in /usr/local/lib/python3.11/dist-packages (from tensorflowjs) (2.17.1)\n",
            "Requirement already satisfied: tf-keras>=2.13.0 in /usr/local/lib/python3.11/dist-packages (from tensorflowjs) (2.17.0)\n",
            "Collecting tensorflow-decision-forests>=1.5.0 (from tensorflowjs)\n",
            "  Downloading tensorflow_decision_forests-1.11.0-cp311-cp311-manylinux_2_17_x86_64.manylinux2014_x86_64.whl.metadata (6.0 kB)\n",
            "Requirement already satisfied: six<2,>=1.16.0 in /usr/local/lib/python3.11/dist-packages (from tensorflowjs) (1.17.0)\n",
            "Requirement already satisfied: tensorflow-hub>=0.16.1 in /usr/local/lib/python3.11/dist-packages (from tensorflowjs) (0.16.1)\n",
            "Collecting packaging~=23.1 (from tensorflowjs)\n",
            "  Downloading packaging-23.2-py3-none-any.whl.metadata (3.2 kB)\n",
            "Requirement already satisfied: msgpack in /usr/local/lib/python3.11/dist-packages (from flax>=0.7.2->tensorflowjs) (1.1.0)\n",
            "Requirement already satisfied: optax in /usr/local/lib/python3.11/dist-packages (from flax>=0.7.2->tensorflowjs) (0.2.4)\n",
            "Requirement already satisfied: orbax-checkpoint in /usr/local/lib/python3.11/dist-packages (from flax>=0.7.2->tensorflowjs) (0.6.4)\n",
            "Requirement already satisfied: tensorstore in /usr/local/lib/python3.11/dist-packages (from flax>=0.7.2->tensorflowjs) (0.1.71)\n",
            "Requirement already satisfied: rich>=11.1 in /usr/local/lib/python3.11/dist-packages (from flax>=0.7.2->tensorflowjs) (13.9.4)\n",
            "Requirement already satisfied: typing-extensions>=4.2 in /usr/local/lib/python3.11/dist-packages (from flax>=0.7.2->tensorflowjs) (4.12.2)\n",
            "Requirement already satisfied: PyYAML>=5.4.1 in /usr/local/lib/python3.11/dist-packages (from flax>=0.7.2->tensorflowjs) (6.0.2)\n",
            "Requirement already satisfied: numpy>=1.23.2 in /usr/local/lib/python3.11/dist-packages (from flax>=0.7.2->tensorflowjs) (1.26.4)\n",
            "Requirement already satisfied: ml-dtypes>=0.2.0 in /usr/local/lib/python3.11/dist-packages (from jax>=0.4.13->tensorflowjs) (0.4.1)\n",
            "Requirement already satisfied: opt-einsum in /usr/local/lib/python3.11/dist-packages (from jax>=0.4.13->tensorflowjs) (3.4.0)\n",
            "Requirement already satisfied: scipy>=1.10 in /usr/local/lib/python3.11/dist-packages (from jax>=0.4.13->tensorflowjs) (1.13.1)\n",
            "Requirement already satisfied: absl-py>=1.0.0 in /usr/local/lib/python3.11/dist-packages (from tensorflow<3,>=2.13.0->tensorflowjs) (1.4.0)\n",
            "Requirement already satisfied: astunparse>=1.6.0 in /usr/local/lib/python3.11/dist-packages (from tensorflow<3,>=2.13.0->tensorflowjs) (1.6.3)\n",
            "Requirement already satisfied: flatbuffers>=24.3.25 in /usr/local/lib/python3.11/dist-packages (from tensorflow<3,>=2.13.0->tensorflowjs) (25.1.21)\n",
            "Requirement already satisfied: gast!=0.5.0,!=0.5.1,!=0.5.2,>=0.2.1 in /usr/local/lib/python3.11/dist-packages (from tensorflow<3,>=2.13.0->tensorflowjs) (0.6.0)\n",
            "Requirement already satisfied: google-pasta>=0.1.1 in /usr/local/lib/python3.11/dist-packages (from tensorflow<3,>=2.13.0->tensorflowjs) (0.2.0)\n",
            "Requirement already satisfied: h5py>=3.10.0 in /usr/local/lib/python3.11/dist-packages (from tensorflow<3,>=2.13.0->tensorflowjs) (3.12.1)\n",
            "Requirement already satisfied: libclang>=13.0.0 in /usr/local/lib/python3.11/dist-packages (from tensorflow<3,>=2.13.0->tensorflowjs) (18.1.1)\n",
            "Requirement already satisfied: protobuf!=4.21.0,!=4.21.1,!=4.21.2,!=4.21.3,!=4.21.4,!=4.21.5,<5.0.0dev,>=3.20.3 in /usr/local/lib/python3.11/dist-packages (from tensorflow<3,>=2.13.0->tensorflowjs) (4.25.5)\n",
            "Requirement already satisfied: requests<3,>=2.21.0 in /usr/local/lib/python3.11/dist-packages (from tensorflow<3,>=2.13.0->tensorflowjs) (2.32.3)\n",
            "Requirement already satisfied: setuptools in /usr/local/lib/python3.11/dist-packages (from tensorflow<3,>=2.13.0->tensorflowjs) (75.1.0)\n",
            "Requirement already satisfied: termcolor>=1.1.0 in /usr/local/lib/python3.11/dist-packages (from tensorflow<3,>=2.13.0->tensorflowjs) (2.5.0)\n",
            "Requirement already satisfied: wrapt>=1.11.0 in /usr/local/lib/python3.11/dist-packages (from tensorflow<3,>=2.13.0->tensorflowjs) (1.17.2)\n",
            "Requirement already satisfied: grpcio<2.0,>=1.24.3 in /usr/local/lib/python3.11/dist-packages (from tensorflow<3,>=2.13.0->tensorflowjs) (1.69.0)\n",
            "Requirement already satisfied: tensorboard<2.18,>=2.17 in /usr/local/lib/python3.11/dist-packages (from tensorflow<3,>=2.13.0->tensorflowjs) (2.17.1)\n",
            "Requirement already satisfied: keras>=3.2.0 in /usr/local/lib/python3.11/dist-packages (from tensorflow<3,>=2.13.0->tensorflowjs) (3.5.0)\n",
            "Requirement already satisfied: tensorflow-io-gcs-filesystem>=0.23.1 in /usr/local/lib/python3.11/dist-packages (from tensorflow<3,>=2.13.0->tensorflowjs) (0.37.1)\n",
            "Requirement already satisfied: pandas in /usr/local/lib/python3.11/dist-packages (from tensorflow-decision-forests>=1.5.0->tensorflowjs) (2.2.2)\n",
            "Collecting tensorflow<3,>=2.13.0 (from tensorflowjs)\n",
            "  Downloading tensorflow-2.18.0-cp311-cp311-manylinux_2_17_x86_64.manylinux2014_x86_64.whl.metadata (4.1 kB)\n",
            "Requirement already satisfied: wheel in /usr/local/lib/python3.11/dist-packages (from tensorflow-decision-forests>=1.5.0->tensorflowjs) (0.45.1)\n",
            "Collecting wurlitzer (from tensorflow-decision-forests>=1.5.0->tensorflowjs)\n",
            "  Downloading wurlitzer-3.1.1-py3-none-any.whl.metadata (2.5 kB)\n",
            "Collecting ydf (from tensorflow-decision-forests>=1.5.0->tensorflowjs)\n",
            "  Downloading ydf-0.9.0-cp311-cp311-manylinux_2_17_x86_64.manylinux2014_x86_64.whl.metadata (3.2 kB)\n",
            "Collecting tensorboard<2.19,>=2.18 (from tensorflow<3,>=2.13.0->tensorflowjs)\n",
            "  Downloading tensorboard-2.18.0-py3-none-any.whl.metadata (1.6 kB)\n",
            "INFO: pip is looking at multiple versions of tf-keras to determine which version is compatible with other requirements. This could take a while.\n",
            "Collecting tf-keras>=2.13.0 (from tensorflowjs)\n",
            "  Downloading tf_keras-2.18.0-py3-none-any.whl.metadata (1.6 kB)\n",
            "Requirement already satisfied: namex in /usr/local/lib/python3.11/dist-packages (from keras>=3.2.0->tensorflow<3,>=2.13.0->tensorflowjs) (0.0.8)\n",
            "Requirement already satisfied: optree in /usr/local/lib/python3.11/dist-packages (from keras>=3.2.0->tensorflow<3,>=2.13.0->tensorflowjs) (0.14.0)\n",
            "Requirement already satisfied: charset-normalizer<4,>=2 in /usr/local/lib/python3.11/dist-packages (from requests<3,>=2.21.0->tensorflow<3,>=2.13.0->tensorflowjs) (3.4.1)\n",
            "Requirement already satisfied: idna<4,>=2.5 in /usr/local/lib/python3.11/dist-packages (from requests<3,>=2.21.0->tensorflow<3,>=2.13.0->tensorflowjs) (3.10)\n",
            "Requirement already satisfied: urllib3<3,>=1.21.1 in /usr/local/lib/python3.11/dist-packages (from requests<3,>=2.21.0->tensorflow<3,>=2.13.0->tensorflowjs) (2.3.0)\n",
            "Requirement already satisfied: certifi>=2017.4.17 in /usr/local/lib/python3.11/dist-packages (from requests<3,>=2.21.0->tensorflow<3,>=2.13.0->tensorflowjs) (2024.12.14)\n",
            "Requirement already satisfied: markdown-it-py>=2.2.0 in /usr/local/lib/python3.11/dist-packages (from rich>=11.1->flax>=0.7.2->tensorflowjs) (3.0.0)\n",
            "Requirement already satisfied: pygments<3.0.0,>=2.13.0 in /usr/local/lib/python3.11/dist-packages (from rich>=11.1->flax>=0.7.2->tensorflowjs) (2.18.0)\n",
            "Requirement already satisfied: markdown>=2.6.8 in /usr/local/lib/python3.11/dist-packages (from tensorboard<2.19,>=2.18->tensorflow<3,>=2.13.0->tensorflowjs) (3.7)\n",
            "Requirement already satisfied: tensorboard-data-server<0.8.0,>=0.7.0 in /usr/local/lib/python3.11/dist-packages (from tensorboard<2.19,>=2.18->tensorflow<3,>=2.13.0->tensorflowjs) (0.7.2)\n",
            "Requirement already satisfied: werkzeug>=1.0.1 in /usr/local/lib/python3.11/dist-packages (from tensorboard<2.19,>=2.18->tensorflow<3,>=2.13.0->tensorflowjs) (3.1.3)\n",
            "Requirement already satisfied: chex>=0.1.87 in /usr/local/lib/python3.11/dist-packages (from optax->flax>=0.7.2->tensorflowjs) (0.1.88)\n",
            "Requirement already satisfied: etils[epy] in /usr/local/lib/python3.11/dist-packages (from optax->flax>=0.7.2->tensorflowjs) (1.11.0)\n",
            "Requirement already satisfied: nest_asyncio in /usr/local/lib/python3.11/dist-packages (from orbax-checkpoint->flax>=0.7.2->tensorflowjs) (1.6.0)\n",
            "Requirement already satisfied: humanize in /usr/local/lib/python3.11/dist-packages (from orbax-checkpoint->flax>=0.7.2->tensorflowjs) (4.11.0)\n",
            "Requirement already satisfied: python-dateutil>=2.8.2 in /usr/local/lib/python3.11/dist-packages (from pandas->tensorflow-decision-forests>=1.5.0->tensorflowjs) (2.8.2)\n",
            "Requirement already satisfied: pytz>=2020.1 in /usr/local/lib/python3.11/dist-packages (from pandas->tensorflow-decision-forests>=1.5.0->tensorflowjs) (2024.2)\n",
            "Requirement already satisfied: tzdata>=2022.7 in /usr/local/lib/python3.11/dist-packages (from pandas->tensorflow-decision-forests>=1.5.0->tensorflowjs) (2025.1)\n",
            "Requirement already satisfied: toolz>=0.9.0 in /usr/local/lib/python3.11/dist-packages (from chex>=0.1.87->optax->flax>=0.7.2->tensorflowjs) (0.12.1)\n",
            "Requirement already satisfied: mdurl~=0.1 in /usr/local/lib/python3.11/dist-packages (from markdown-it-py>=2.2.0->rich>=11.1->flax>=0.7.2->tensorflowjs) (0.1.2)\n",
            "Requirement already satisfied: MarkupSafe>=2.1.1 in /usr/local/lib/python3.11/dist-packages (from werkzeug>=1.0.1->tensorboard<2.19,>=2.18->tensorflow<3,>=2.13.0->tensorflowjs) (3.0.2)\n",
            "Requirement already satisfied: fsspec in /usr/local/lib/python3.11/dist-packages (from etils[epath,epy]->orbax-checkpoint->flax>=0.7.2->tensorflowjs) (2024.10.0)\n",
            "Requirement already satisfied: zipp in /usr/local/lib/python3.11/dist-packages (from etils[epath,epy]->orbax-checkpoint->flax>=0.7.2->tensorflowjs) (3.21.0)\n",
            "Downloading tensorflowjs-4.22.0-py3-none-any.whl (89 kB)\n",
            "\u001b[2K   \u001b[90m━━━━━━━━━━━━━━━━━━━━━━━━━━━━━━━━━━━━━━━━\u001b[0m \u001b[32m89.1/89.1 kB\u001b[0m \u001b[31m3.5 MB/s\u001b[0m eta \u001b[36m0:00:00\u001b[0m\n",
            "\u001b[?25hDownloading packaging-23.2-py3-none-any.whl (53 kB)\n",
            "\u001b[2K   \u001b[90m━━━━━━━━━━━━━━━━━━━━━━━━━━━━━━━━━━━━━━━━\u001b[0m \u001b[32m53.0/53.0 kB\u001b[0m \u001b[31m5.5 MB/s\u001b[0m eta \u001b[36m0:00:00\u001b[0m\n",
            "\u001b[?25hDownloading tensorflow_decision_forests-1.11.0-cp311-cp311-manylinux_2_17_x86_64.manylinux2014_x86_64.whl (15.9 MB)\n",
            "\u001b[2K   \u001b[90m━━━━━━━━━━━━━━━━━━━━━━━━━━━━━━━━━━━━━━━━\u001b[0m \u001b[32m15.9/15.9 MB\u001b[0m \u001b[31m58.6 MB/s\u001b[0m eta \u001b[36m0:00:00\u001b[0m\n",
            "\u001b[?25hDownloading tensorflow-2.18.0-cp311-cp311-manylinux_2_17_x86_64.manylinux2014_x86_64.whl (615.4 MB)\n",
            "\u001b[2K   \u001b[90m━━━━━━━━━━━━━━━━━━━━━━━━━━━━━━━━━━━━━━━━\u001b[0m \u001b[32m615.4/615.4 MB\u001b[0m \u001b[31m3.0 MB/s\u001b[0m eta \u001b[36m0:00:00\u001b[0m\n",
            "\u001b[?25hDownloading tf_keras-2.18.0-py3-none-any.whl (1.7 MB)\n",
            "\u001b[2K   \u001b[90m━━━━━━━━━━━━━━━━━━━━━━━━━━━━━━━━━━━━━━━━\u001b[0m \u001b[32m1.7/1.7 MB\u001b[0m \u001b[31m73.0 MB/s\u001b[0m eta \u001b[36m0:00:00\u001b[0m\n",
            "\u001b[?25hDownloading tensorboard-2.18.0-py3-none-any.whl (5.5 MB)\n",
            "\u001b[2K   \u001b[90m━━━━━━━━━━━━━━━━━━━━━━━━━━━━━━━━━━━━━━━━\u001b[0m \u001b[32m5.5/5.5 MB\u001b[0m \u001b[31m97.3 MB/s\u001b[0m eta \u001b[36m0:00:00\u001b[0m\n",
            "\u001b[?25hDownloading wurlitzer-3.1.1-py3-none-any.whl (8.6 kB)\n",
            "Downloading ydf-0.9.0-cp311-cp311-manylinux_2_17_x86_64.manylinux2014_x86_64.whl (9.5 MB)\n",
            "\u001b[2K   \u001b[90m━━━━━━━━━━━━━━━━━━━━━━━━━━━━━━━━━━━━━━━━\u001b[0m \u001b[32m9.5/9.5 MB\u001b[0m \u001b[31m104.4 MB/s\u001b[0m eta \u001b[36m0:00:00\u001b[0m\n",
            "\u001b[?25hInstalling collected packages: ydf, wurlitzer, packaging, tensorboard, tensorflow, tf-keras, tensorflow-decision-forests, tensorflowjs\n",
            "  Attempting uninstall: packaging\n",
            "    Found existing installation: packaging 24.2\n",
            "    Uninstalling packaging-24.2:\n",
            "      Successfully uninstalled packaging-24.2\n",
            "  Attempting uninstall: tensorboard\n",
            "    Found existing installation: tensorboard 2.17.1\n",
            "    Uninstalling tensorboard-2.17.1:\n",
            "      Successfully uninstalled tensorboard-2.17.1\n",
            "  Attempting uninstall: tensorflow\n",
            "    Found existing installation: tensorflow 2.17.1\n",
            "    Uninstalling tensorflow-2.17.1:\n",
            "      Successfully uninstalled tensorflow-2.17.1\n",
            "  Attempting uninstall: tf-keras\n",
            "    Found existing installation: tf_keras 2.17.0\n",
            "    Uninstalling tf_keras-2.17.0:\n",
            "      Successfully uninstalled tf_keras-2.17.0\n",
            "Successfully installed packaging-23.2 tensorboard-2.18.0 tensorflow-2.18.0 tensorflow-decision-forests-1.11.0 tensorflowjs-4.22.0 tf-keras-2.18.0 wurlitzer-3.1.1 ydf-0.9.0\n"
          ]
        },
        {
          "output_type": "display_data",
          "data": {
            "application/vnd.colab-display-data+json": {
              "pip_warning": {
                "packages": [
                  "tensorflow"
                ]
              },
              "id": "35c854868c924f43a67ce59c85d94481"
            }
          },
          "metadata": {}
        }
      ]
    },
    {
      "cell_type": "code",
      "source": [
        "#Se crea un archivo para guardar los archivos convertidos\n",
        "!mkdir output_folder"
      ],
      "metadata": {
        "id": "ANdGmcSLHtu5"
      },
      "execution_count": 12,
      "outputs": []
    },
    {
      "cell_type": "code",
      "source": [
        "#Realizo la exportacion\n",
        "!tensorflowjs_converter --input_format keras km_a_millas.h5 output_folder"
      ],
      "metadata": {
        "colab": {
          "base_uri": "https://localhost:8080/"
        },
        "id": "we92Pr1_ILFC",
        "outputId": "9c568324-ced2-48ff-912e-4f14dac80693"
      },
      "execution_count": 13,
      "outputs": [
        {
          "output_type": "stream",
          "name": "stdout",
          "text": [
            "2025-01-26 01:01:52.204780: E external/local_xla/xla/stream_executor/cuda/cuda_fft.cc:477] Unable to register cuFFT factory: Attempting to register factory for plugin cuFFT when one has already been registered\n",
            "WARNING: All log messages before absl::InitializeLog() is called are written to STDERR\n",
            "E0000 00:00:1737853312.250758    5274 cuda_dnn.cc:8310] Unable to register cuDNN factory: Attempting to register factory for plugin cuDNN when one has already been registered\n",
            "E0000 00:00:1737853312.269142    5274 cuda_blas.cc:1418] Unable to register cuBLAS factory: Attempting to register factory for plugin cuBLAS when one has already been registered\n",
            "\u001b[32m🌲 Try \u001b[0m\u001b[34mhttps://ydf.readthedocs.io\u001b[0m\u001b[32m, the successor of TensorFlow Decision Forests with more features and faster training!\u001b[0m\n",
            "failed to lookup keras version from the file,\n",
            "    this is likely a weight only file\n"
          ]
        }
      ]
    },
    {
      "cell_type": "code",
      "source": [
        "#Listar los archivos creados\n",
        "!ls output_folder"
      ],
      "metadata": {
        "colab": {
          "base_uri": "https://localhost:8080/"
        },
        "id": "yPDtpX-IIXMK",
        "outputId": "88a595f2-2e7d-41d6-df85-5ff40a5cb764"
      },
      "execution_count": 14,
      "outputs": [
        {
          "output_type": "stream",
          "name": "stdout",
          "text": [
            "group1-shard1of1.bin  model.json\n"
          ]
        }
      ]
    }
  ]
}